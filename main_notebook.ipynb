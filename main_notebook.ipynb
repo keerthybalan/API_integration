{
 "cells": [
  {
   "cell_type": "code",
   "execution_count": 3,
   "metadata": {
    "collapsed": true
   },
   "outputs": [
    {
     "ename": "OSError",
     "evalue": "Could not find a suitable TLS CA certificate bundle, invalid path: /Users/keerthybalan/PycharmProjects/de-churned/venv/lib/python3.8/site-packages/certifi/cacert.pem",
     "output_type": "error",
     "traceback": [
      "\u001B[0;31m---------------------------------------------------------------------------\u001B[0m",
      "\u001B[0;31mOSError\u001B[0m                                   Traceback (most recent call last)",
      "Input \u001B[0;32mIn [3]\u001B[0m, in \u001B[0;36m<cell line: 3>\u001B[0;34m()\u001B[0m\n\u001B[1;32m      1\u001B[0m \u001B[38;5;28;01mfrom\u001B[39;00m \u001B[38;5;21;01mbigquery_functions\u001B[39;00m \u001B[38;5;28;01mimport\u001B[39;00m delete_table\n\u001B[1;32m      2\u001B[0m \u001B[38;5;28;01mfrom\u001B[39;00m \u001B[38;5;21;01mbigquery_functions\u001B[39;00m \u001B[38;5;28;01mimport\u001B[39;00m batch_upload\n\u001B[0;32m----> 3\u001B[0m \u001B[38;5;28;01mfrom\u001B[39;00m \u001B[38;5;21;01mmain\u001B[39;00m \u001B[38;5;28;01mimport\u001B[39;00m get_rates\n\u001B[1;32m      4\u001B[0m \u001B[38;5;28;01mimport\u001B[39;00m \u001B[38;5;21;01mpandas\u001B[39;00m \u001B[38;5;28;01mas\u001B[39;00m \u001B[38;5;21;01mpd\u001B[39;00m\n\u001B[1;32m      5\u001B[0m \u001B[38;5;28;01mfrom\u001B[39;00m \u001B[38;5;21;01mmain\u001B[39;00m \u001B[38;5;28;01mimport\u001B[39;00m create_table_gcp\n",
      "File \u001B[0;32m~/PycharmProjects/de-case-solution/main.py:79\u001B[0m, in \u001B[0;36m<module>\u001B[0;34m\u001B[0m\n\u001B[1;32m     75\u001B[0m \u001B[38;5;28;01mdef\u001B[39;00m \u001B[38;5;21mdate_today\u001B[39m():\n\u001B[1;32m     76\u001B[0m     \u001B[38;5;28;01mreturn\u001B[39;00m date\u001B[38;5;241m.\u001B[39mtoday()\u001B[38;5;241m.\u001B[39mstrftime(\u001B[38;5;124m'\u001B[39m\u001B[38;5;124m%\u001B[39m\u001B[38;5;124mY-\u001B[39m\u001B[38;5;124m%\u001B[39m\u001B[38;5;124mm-\u001B[39m\u001B[38;5;132;01m%d\u001B[39;00m\u001B[38;5;124m'\u001B[39m)\n\u001B[0;32m---> 79\u001B[0m rates_to_upload \u001B[38;5;241m=\u001B[39m \u001B[43mget_rates\u001B[49m\u001B[43m(\u001B[49m\u001B[43mbase\u001B[49m\u001B[38;5;241;43m=\u001B[39;49m\u001B[38;5;124;43m'\u001B[39;49m\u001B[38;5;124;43mEUR\u001B[39;49m\u001B[38;5;124;43m'\u001B[39;49m\u001B[43m,\u001B[49m\u001B[43m \u001B[49m\u001B[43mstart_date\u001B[49m\u001B[38;5;241;43m=\u001B[39;49m\u001B[38;5;124;43m'\u001B[39;49m\u001B[38;5;124;43m2022-01-01\u001B[39;49m\u001B[38;5;124;43m'\u001B[39;49m\u001B[43m,\u001B[49m\u001B[43m \u001B[49m\u001B[43mend_date\u001B[49m\u001B[38;5;241;43m=\u001B[39;49m\u001B[38;5;124;43m'\u001B[39;49m\u001B[38;5;124;43m2022-05-31\u001B[39;49m\u001B[38;5;124;43m'\u001B[39;49m\u001B[43m)\u001B[49m\n\u001B[1;32m     80\u001B[0m delete_table(\u001B[38;5;124m'\u001B[39m\u001B[38;5;124mqntq-recruitment.data.de_currency_rates\u001B[39m\u001B[38;5;124m'\u001B[39m)\n\u001B[1;32m     81\u001B[0m rates_table \u001B[38;5;241m=\u001B[39m create_table_gcp(\u001B[38;5;124m\"\u001B[39m\u001B[38;5;124mde_currency_rates\u001B[39m\u001B[38;5;124m\"\u001B[39m, rates_to_upload)\n",
      "File \u001B[0;32m~/PycharmProjects/de-case-solution/main.py:41\u001B[0m, in \u001B[0;36mget_rates\u001B[0;34m(base, start_date, end_date)\u001B[0m\n\u001B[1;32m     40\u001B[0m \u001B[38;5;28;01mdef\u001B[39;00m \u001B[38;5;21mget_rates\u001B[39m(base, start_date, end_date):\n\u001B[0;32m---> 41\u001B[0m     results \u001B[38;5;241m=\u001B[39m \u001B[43mapi_request\u001B[49m\u001B[43m(\u001B[49m\u001B[43mget_rates_url\u001B[49m\u001B[43m(\u001B[49m\u001B[43mbase\u001B[49m\u001B[43m,\u001B[49m\u001B[43m \u001B[49m\u001B[43mstart_date\u001B[49m\u001B[43m,\u001B[49m\u001B[43m \u001B[49m\u001B[43mend_date\u001B[49m\u001B[43m)\u001B[49m\u001B[43m)\u001B[49m\n\u001B[1;32m     42\u001B[0m     df_results \u001B[38;5;241m=\u001B[39m pd\u001B[38;5;241m.\u001B[39mread_json(results)\n\u001B[1;32m     43\u001B[0m     df_rates \u001B[38;5;241m=\u001B[39m pd\u001B[38;5;241m.\u001B[39mjson_normalize(df_results\u001B[38;5;241m.\u001B[39mrates)\n",
      "File \u001B[0;32m~/PycharmProjects/de-case-solution/main.py:32\u001B[0m, in \u001B[0;36mapi_request\u001B[0;34m(api_url)\u001B[0m\n\u001B[1;32m     31\u001B[0m \u001B[38;5;28;01mdef\u001B[39;00m \u001B[38;5;21mapi_request\u001B[39m(api_url):\n\u001B[0;32m---> 32\u001B[0m     response \u001B[38;5;241m=\u001B[39m \u001B[43mrequests\u001B[49m\u001B[38;5;241;43m.\u001B[39;49m\u001B[43mrequest\u001B[49m\u001B[43m(\u001B[49m\u001B[38;5;124;43m\"\u001B[39;49m\u001B[38;5;124;43mGET\u001B[39;49m\u001B[38;5;124;43m\"\u001B[39;49m\u001B[43m,\u001B[49m\u001B[43m \u001B[49m\u001B[43mapi_url\u001B[49m\u001B[43m,\u001B[49m\u001B[43m \u001B[49m\u001B[43mheaders\u001B[49m\u001B[38;5;241;43m=\u001B[39;49m\u001B[43mheaders\u001B[49m\u001B[43m,\u001B[49m\n\u001B[1;32m     33\u001B[0m \u001B[43m                                \u001B[49m\u001B[43mdata\u001B[49m\u001B[38;5;241;43m=\u001B[39;49m\u001B[43mpayload\u001B[49m\u001B[43m)\u001B[49m\n\u001B[1;32m     34\u001B[0m     status_code \u001B[38;5;241m=\u001B[39m response\u001B[38;5;241m.\u001B[39mstatus_code\n\u001B[1;32m     35\u001B[0m     \u001B[38;5;28mprint\u001B[39m(status_code)\n",
      "File \u001B[0;32m~/PycharmProjects/de-churned/venv/lib/python3.8/site-packages/requests/api.py:59\u001B[0m, in \u001B[0;36mrequest\u001B[0;34m(method, url, **kwargs)\u001B[0m\n",
      "File \u001B[0;32m~/PycharmProjects/de-churned/venv/lib/python3.8/site-packages/requests/sessions.py:587\u001B[0m, in \u001B[0;36mrequest\u001B[0;34m(self, method, url, params, data, headers, cookies, files, auth, timeout, allow_redirects, proxies, hooks, stream, verify, cert, json)\u001B[0m\n",
      "File \u001B[0;32m~/PycharmProjects/de-churned/venv/lib/python3.8/site-packages/requests/sessions.py:701\u001B[0m, in \u001B[0;36msend\u001B[0;34m(self, request, **kwargs)\u001B[0m\n",
      "File \u001B[0;32m~/PycharmProjects/de-churned/venv/lib/python3.8/site-packages/requests/adapters.py:460\u001B[0m, in \u001B[0;36msend\u001B[0;34m(self, request, stream, timeout, verify, cert, proxies)\u001B[0m\n",
      "File \u001B[0;32m~/PycharmProjects/de-churned/venv/lib/python3.8/site-packages/requests/adapters.py:263\u001B[0m, in \u001B[0;36mcert_verify\u001B[0;34m(self, conn, url, verify, cert)\u001B[0m\n",
      "\u001B[0;31mOSError\u001B[0m: Could not find a suitable TLS CA certificate bundle, invalid path: /Users/keerthybalan/PycharmProjects/de-churned/venv/lib/python3.8/site-packages/certifi/cacert.pem"
     ]
    }
   ],
   "source": [
    "from bigquery_functions import delete_table\n",
    "from bigquery_functions import batch_upload\n",
    "from main import get_rates\n",
    "import pandas as pd\n",
    "from main import create_table_gcp\n",
    "from main import query_print_table\n",
    "from main import find_last_date_table\n",
    "from datetime import date\n",
    "from time import sleep\n",
    "from main import date_today"
   ]
  },
  {
   "cell_type": "code",
   "execution_count": 2,
   "outputs": [
    {
     "ename": "NameError",
     "evalue": "name 'get_rates' is not defined",
     "output_type": "error",
     "traceback": [
      "\u001B[0;31m---------------------------------------------------------------------------\u001B[0m",
      "\u001B[0;31mNameError\u001B[0m                                 Traceback (most recent call last)",
      "Input \u001B[0;32mIn [2]\u001B[0m, in \u001B[0;36m<cell line: 1>\u001B[0;34m()\u001B[0m\n\u001B[0;32m----> 1\u001B[0m rates_to_upload \u001B[38;5;241m=\u001B[39m \u001B[43mget_rates\u001B[49m(base\u001B[38;5;241m=\u001B[39m\u001B[38;5;124m'\u001B[39m\u001B[38;5;124mEUR\u001B[39m\u001B[38;5;124m'\u001B[39m, start_date\u001B[38;5;241m=\u001B[39m\u001B[38;5;124m'\u001B[39m\u001B[38;5;124m2022-01-01\u001B[39m\u001B[38;5;124m'\u001B[39m, end_date\u001B[38;5;241m=\u001B[39m\u001B[38;5;124m'\u001B[39m\u001B[38;5;124m2022-05-31\u001B[39m\u001B[38;5;124m'\u001B[39m)\n",
      "\u001B[0;31mNameError\u001B[0m: name 'get_rates' is not defined"
     ]
    }
   ],
   "source": [
    "rates_to_upload = get_rates(base='EUR', start_date='2022-01-01', end_date='2022-05-31')"
   ],
   "metadata": {
    "collapsed": false,
    "pycharm": {
     "name": "#%%\n"
    }
   }
  },
  {
   "cell_type": "code",
   "execution_count": 19,
   "outputs": [
    {
     "name": "stdout",
     "output_type": "stream",
     "text": [
      "Deleted table qntq-recruitment.data.de_currency_rates\n",
      "qntq-recruitment.data.de_currency_rates\n",
      "Created table qntq-recruitment.data.de_currency_rates\n"
     ]
    }
   ],
   "source": [
    "delete_table('qntq-recruitment.data.de_currency_rates')\n",
    "rates_table = create_table_gcp(\"de_currency_rates\", rates_to_upload)"
   ],
   "metadata": {
    "collapsed": false,
    "pycharm": {
     "name": "#%%\n"
    }
   }
  },
  {
   "cell_type": "code",
   "execution_count": 21,
   "outputs": [
    {
     "name": "stdout",
     "output_type": "stream",
     "text": [
      "New rows have been added.\n"
     ]
    }
   ],
   "source": [
    "batch_upload(rates_table, rates_to_upload.to_dict(orient='records'))"
   ],
   "metadata": {
    "collapsed": false,
    "pycharm": {
     "name": "#%%\n"
    }
   }
  },
  {
   "cell_type": "code",
   "execution_count": 22,
   "outputs": [
    {
     "name": "stdout",
     "output_type": "stream",
     "text": [
      "Rates uploaded until 2022-05-31\n"
     ]
    }
   ],
   "source": [
    "last_date = find_last_date_table(rates_table)\n",
    "print(\"Rates uploaded until %s\" % (last_date))"
   ],
   "metadata": {
    "collapsed": false,
    "pycharm": {
     "name": "#%%\n"
    }
   }
  },
  {
   "cell_type": "code",
   "execution_count": 7,
   "outputs": [
    {
     "name": "stdout",
     "output_type": "stream",
     "text": [
      "           DATE BASE       AED         AFN         ALL         AMD       ANG  \\\n",
      "0    2022-01-01  EUR  4.176782  117.979297  121.277018  546.096265  2.049808   \n",
      "1    2022-01-02  EUR  4.177235  117.993578  121.292102  546.164583  2.050064   \n",
      "2    2022-01-03  EUR  4.150540  117.235943  120.060423  544.187906  2.037327   \n",
      "3    2022-01-04  EUR  4.144514  118.362513  119.463303  544.201872  2.032711   \n",
      "4    2022-01-05  EUR  4.155551  119.074390  120.943795  546.626133  2.039588   \n",
      "..          ...  ...       ...         ...         ...         ...       ...   \n",
      "146  2022-05-27  EUR  3.943193   95.544703  121.255821  481.135800  1.933480   \n",
      "147  2022-05-28  EUR  3.943193   95.544703  121.255821  481.135800  1.933480   \n",
      "148  2022-05-29  EUR  3.941563   95.506544  121.208126  480.947008  1.932722   \n",
      "149  2022-05-30  EUR  3.957100   95.843846  120.800346  484.319047  1.940763   \n",
      "150  2022-05-31  EUR  3.942614   95.530446   67.353712  480.861913  1.934342   \n",
      "\n",
      "            AOA         ARS       AUD  ...       XAU       XCD       XDR  \\\n",
      "0    626.101357  116.773434  1.564485  ...  0.000622  3.073193  0.812663   \n",
      "1    626.179720  116.759289  1.565111  ...  0.000622  3.073577  0.812765   \n",
      "2    626.240367  116.341226  1.570112  ...  0.000626  3.053832  0.807706   \n",
      "3    624.456835  116.336834  1.558361  ...  0.000622  3.049405  0.805117   \n",
      "4    625.241974  116.644985  1.566636  ...  0.000625  3.057520  0.810347   \n",
      "..          ...         ...       ...  ...       ...       ...       ...   \n",
      "146  450.090664  128.268395  1.499136  ...  0.000579  2.901273  0.794585   \n",
      "147  450.090664  128.268395  1.499136  ...  0.000579  2.901273  0.794585   \n",
      "148  449.914293  128.253972  1.498545  ...  0.000580  2.900136  0.794273   \n",
      "149  451.961151  129.281257  1.497295  ...  0.000582  2.911508  0.798132   \n",
      "150  454.420061  129.005346  1.494482  ...  0.000584  2.900852  0.795431   \n",
      "\n",
      "            XOF         XPF         YER        ZAR           ZMK        ZMW  \\\n",
      "0    658.979869  120.367257  284.571056  18.138658  10235.677475  18.948740   \n",
      "1    659.057648  120.382047  284.605769  18.156679  10236.956907  18.951110   \n",
      "2    653.688869  120.061188  282.778231  17.937892  10171.194552  18.841523   \n",
      "3    654.995150  119.745484  282.367813  18.096101  10156.445865  18.864138   \n",
      "4    655.616678  119.413738  283.119082  17.981505  10183.461167  18.973170   \n",
      "..          ...         ...         ...        ...           ...        ...   \n",
      "146  655.394874  119.917338  268.651659  16.711108   9663.075982  18.479465   \n",
      "147  655.394874  119.917338  268.651659  16.711108   9663.075982  18.479465   \n",
      "148  655.135180  119.866228  268.546145  16.739350   9659.290193  18.472224   \n",
      "149  655.578989  120.352061  269.599288  16.689609   9697.162444  18.549177   \n",
      "150  601.618239  119.708251  268.612319  16.777410   9661.671238  18.513539   \n",
      "\n",
      "            ZWL  \n",
      "0    366.160363  \n",
      "1    366.206170  \n",
      "2    363.853655  \n",
      "3    363.326122  \n",
      "4    364.293086  \n",
      "..          ...  \n",
      "146  345.676719  \n",
      "147  345.676719  \n",
      "148  345.541262  \n",
      "149  346.896218  \n",
      "150  345.626534  \n",
      "\n",
      "[151 rows x 170 columns]\n"
     ]
    }
   ],
   "source": [
    "new_rates_to_upload = get_rates(base='EUR', start_date=last_date, end_date=date_today())\n",
    "sleep(10)  # Sleep to prevent 404 error from batch_upload\n",
    "batch_upload(rates_table, new_rates_to_upload.to_dict(orient='records'))"
   ],
   "metadata": {
    "collapsed": false,
    "pycharm": {
     "name": "#%%\n"
    }
   }
  },
  {
   "cell_type": "code",
   "execution_count": 8,
   "outputs": [],
   "source": [
    "last_date = find_last_date_table(rates_table)\n",
    "print(\"Rates updated until %s\" % (last_date))\n",
    "print(query_print_table(rates_table))"
   ],
   "metadata": {
    "collapsed": false,
    "pycharm": {
     "name": "#%%\n"
    }
   }
  }
 ],
 "metadata": {
  "kernelspec": {
   "display_name": "Python 3",
   "language": "python",
   "name": "python3"
  },
  "language_info": {
   "codemirror_mode": {
    "name": "ipython",
    "version": 2
   },
   "file_extension": ".py",
   "mimetype": "text/x-python",
   "name": "python",
   "nbconvert_exporter": "python",
   "pygments_lexer": "ipython2",
   "version": "2.7.6"
  }
 },
 "nbformat": 4,
 "nbformat_minor": 0
}